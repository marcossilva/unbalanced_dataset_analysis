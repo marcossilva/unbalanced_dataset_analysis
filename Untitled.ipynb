{
 "cells": [
  {
   "cell_type": "markdown",
   "metadata": {},
   "source": [
    "# Reduce maintenance cost through predictive techniques\n",
    "## Background\n",
    "Company (3D Technologies) has a fleet of devices transmitting daily aggregated telemetry\n",
    "attributes.\n",
    "Predictive maintenance techniques are designed to help determine the condition of in-service\n",
    "equipment in order to predict when maintenance should be performed. This approach\n",
    "promises cost savings over routine or time-based preventive maintenance, because tasks are\n",
    "performed only when warranted.\n",
    "## Goal\n",
    "You are tasked with building a predictive model using machine learning to predict the\n",
    "probability of a device failure. When building this model, **be sure to minimize false positives and\n",
    "false negatives**. The column **you are trying to predict is called failure with binary value 0 for\n",
    "non-failure and 1 for failure**.\n",
    "## Code\n",
    "We are looking for you to show off your coding skills using either Python or R.\n",
    "## Data\n",
    "Download link: http://aws-proserve-data-science.s3.amazonaws.com/device_failure.csv\n",
    "## Metadata\n",
    "columns description\n",
    "date date in YYYY-MM-DD format\n",
    "device device id\n",
    "failure non-failure is 0, failure is 1\n",
    "attribute1 - attribute9 daily aggregated telemetry\n",
    "## Compute\n",
    "The dataset is small enough to work with on your personal computer but you are welcome to\n",
    "use your \\$10 AWS credit to spin up an EC2 instance.\n",
    "## Report\n",
    "Please return a converted PDF document from Markdown displaying your code and thought\n",
    "process."
   ]
  },
  {
   "cell_type": "markdown",
   "metadata": {},
   "source": [
    "### Goal Sidenotes\n",
    "Given that we're required to minimize false positive AND false negatives we will use F1 as guidance metric."
   ]
  },
  {
   "cell_type": "code",
   "execution_count": 1,
   "metadata": {
    "ExecuteTime": {
     "end_time": "2018-10-20T02:04:40.216650Z",
     "start_time": "2018-10-20T02:04:39.873856Z"
    }
   },
   "outputs": [],
   "source": [
    "import pandas as pd\n",
    "df = pd.read_csv('device_failure_worksample.csv')"
   ]
  },
  {
   "cell_type": "code",
   "execution_count": 4,
   "metadata": {
    "ExecuteTime": {
     "end_time": "2018-10-20T02:04:40.436729Z",
     "start_time": "2018-10-20T02:04:40.230870Z"
    },
    "code_folding": [],
    "scrolled": false
   },
   "outputs": [],
   "source": [
    "from sklearn.preprocessing import MinMaxScaler, MaxAbsScaler, FunctionTransformer, StandardScaler\n",
    "import numpy as np\n",
    "def scale_attribute(attribute, scale_tech='maxmin'):\n",
    "    if scale_tech == 'maxmin':\n",
    "        attribute_scaler = MinMaxScaler()\n",
    "    elif scale_tech == 'maxabs':\n",
    "        attribute_scaler = MaxAbsScaler()\n",
    "    elif scale_tech == 'log':\n",
    "        attribute_scaler = FunctionTransformer(np.log1p, validate=True)\n",
    "    elif scale_tech == 'scale':\n",
    "        attribute_scaler = StandardScaler()\n",
    "    attribute_scaled = scaler.fit_transform(attribute.values.reshape(-1, 1))\n",
    "    pd.DataFrame(attribute_scaled).boxplot()\n",
    "    \n",
    "# scale_attribute(df.loc[:, \"attribute1\"], scale_tech='maxmin')\n",
    "# scale_attribute(df.loc[:, \"attribute3\"], scale_tech='log')"
   ]
  },
  {
   "cell_type": "code",
   "execution_count": 45,
   "metadata": {
    "ExecuteTime": {
     "end_time": "2018-10-20T02:21:47.137003Z",
     "start_time": "2018-10-20T02:21:47.130369Z"
    },
    "code_folding": [
     0,
     8
    ]
   },
   "outputs": [],
   "source": [
    "def oversample(df, times=20):\n",
    "    df_new_ratio = df\n",
    "    for i in range(times):\n",
    "        df_new_ratio = df_new_ratio.append(df[df.failure == 1])\n",
    "        ratio = df_new_ratio.failure.value_counts()\n",
    "    print(f'ratio[0]/ratio[1] = {ratio[0]}/{ratio[1]} = {ratio[0]/ratio[1]}')\n",
    "    return df_new_ratio\n",
    "\n",
    "def undersample(df, divisor=2):\n",
    "    df_new_ratio = df\n",
    "    negative_samples = df[df.failure == 0]\n",
    "    df_new_ratio = df[df.failure==1].append(negative_samples.loc[:int(len(negative_samples)/divisor), :])\n",
    "    ratio = df_new_ratio.failure.value_counts()\n",
    "    print(f'ratio[0]/ratio[1] = {ratio[0]}/{ratio[1]} = {ratio[0]/ratio[1]}')\n",
    "    return df_new_ratio"
   ]
  },
  {
   "cell_type": "code",
   "execution_count": 104,
   "metadata": {
    "ExecuteTime": {
     "end_time": "2018-10-20T03:16:54.607355Z",
     "start_time": "2018-10-20T03:16:54.603543Z"
    },
    "scrolled": true
   },
   "outputs": [],
   "source": [
    "from sklearn.model_selection import train_test_split\n",
    "def split(df, scale=False):\n",
    "    X = df.loc[:, [\"attribute1\",\"attribute2\",\"attribute3\",\"attribute4\",\"attribute5\",\"attribute6\",\"attribute7\",\"attribute8\",\"attribute9\"]].astype(float)\n",
    "    Y = df.loc[:, [\"failure\"]].astype(float)\n",
    "    if scale:\n",
    "        scaler = StandardScaler()\n",
    "        X = scaler.fit_transform(X)\n",
    "    return train_test_split(X,\n",
    "                            Y.values.reshape(-1, 1).ravel(),\n",
    "                            test_size=0.33)"
   ]
  },
  {
   "cell_type": "code",
   "execution_count": 113,
   "metadata": {
    "ExecuteTime": {
     "end_time": "2018-10-20T03:18:41.914263Z",
     "start_time": "2018-10-20T03:18:41.849396Z"
    },
    "scrolled": true
   },
   "outputs": [
    {
     "name": "stdout",
     "output_type": "stream",
     "text": [
      "ratio[0]/ratio[1] = 124388/636 = 195.57861635220127\n"
     ]
    }
   ],
   "source": [
    "df_new_ratio = oversample(df, times=5)\n",
    "# df_new_ratio = undersample(df_new_ratio, divisor=2)\n",
    "X_train, X_test, y_train, y_test = split(df_new_ratio, scale=False)"
   ]
  },
  {
   "cell_type": "code",
   "execution_count": 56,
   "metadata": {
    "ExecuteTime": {
     "end_time": "2018-10-20T02:25:45.590640Z",
     "start_time": "2018-10-20T02:25:45.573481Z"
    }
   },
   "outputs": [],
   "source": [
    "X_full_train, X_full_test, y_full_train, y_full_test = split(df)"
   ]
  },
  {
   "cell_type": "markdown",
   "metadata": {},
   "source": [
    "## Raw Models"
   ]
  },
  {
   "cell_type": "code",
   "execution_count": 116,
   "metadata": {
    "ExecuteTime": {
     "end_time": "2018-10-20T03:21:49.892085Z",
     "start_time": "2018-10-20T03:21:49.886338Z"
    },
    "code_folding": [
     5
    ]
   },
   "outputs": [],
   "source": [
    "from sklearn.metrics import accuracy_score, confusion_matrix, classification_report, roc_curve, roc_auc_score\n",
    "import matplotlib.pyplot as plt\n",
    "from sklearn import metrics\n",
    "from sklearn.model_selection import cross_val_score\n",
    "\n",
    "def print_report(clf, X_test=X_test, y_test=y_test, cv=10):\n",
    "    y_pred = clf.predict(X_test)\n",
    "    print(classification_report(y_test, y_pred))\n",
    "    #     Note that in binary classification, recall of the positive class\n",
    "    #     is also known as \"sensitivity\"; recall of the negative class is\n",
    "    #     \"specificity\".\n",
    "    print(f'Acc: {accuracy_score(y_test,y_pred)*100}')\n",
    "    print(f'AUC: {roc_auc_score(y_test,y_pred)}')\n",
    "    print(confusion_matrix(y_test, y_pred))\n",
    "    scores = cross_val_score(clf, X_test, y_test, cv=cv, scoring='f1_macro')\n",
    "    print(scores)\n",
    "    print(f'{scores.mean():.3f}+-{scores.std():.3f}')\n",
    "    fpr, tpr, _ = roc_curve(y_test, y_pred)\n",
    "    plt.figure(1)\n",
    "    plt.plot([0, 1], [0, 1], 'k--')\n",
    "    plt.plot(fpr, tpr, label='Classifier')\n",
    "    plt.xlabel('False positive rate')\n",
    "    plt.ylabel('True positive rate')\n",
    "    plt.title('ROC curve')\n",
    "    plt.legend(loc='best')\n",
    "    plt.show()"
   ]
  },
  {
   "cell_type": "markdown",
   "metadata": {},
   "source": [
    "### Decision Tree"
   ]
  },
  {
   "cell_type": "code",
   "execution_count": 84,
   "metadata": {
    "ExecuteTime": {
     "end_time": "2018-10-20T02:45:47.628418Z",
     "start_time": "2018-10-20T02:45:47.044906Z"
    },
    "collapsed": true
   },
   "outputs": [
    {
     "name": "stdout",
     "output_type": "stream",
     "text": [
      "              precision    recall  f1-score   support\n",
      "\n",
      "           0       0.99      1.00      1.00     20515\n",
      "           1       0.63      0.45      0.52       204\n",
      "\n",
      "   micro avg       0.99      0.99      0.99     20719\n",
      "   macro avg       0.81      0.72      0.76     20719\n",
      "weighted avg       0.99      0.99      0.99     20719\n",
      "\n",
      "Acc: 99.19880303103432\n",
      "AUC: 0.7217474779334108\n",
      "[[20462    53]\n",
      " [  113    91]]\n",
      "[0.74805542 0.71234302 0.71234302 0.69036594 0.72906938 0.75767967\n",
      " 0.73955582 0.69036406 0.70482993 0.79854086]\n",
      "0.728+-0.032\n"
     ]
    },
    {
     "data": {
      "image/png": "[encoded data removed]",
      "text/plain": [
       "<Figure size 432x288 with 1 Axes>"
      ]
     },
     "metadata": {
      "needs_background": "light"
     },
     "output_type": "display_data"
    }
   ],
   "source": [
    "from sklearn import tree\n",
    "clf = tree.DecisionTreeClassifier(max_depth=5)\n",
    "clf = clf.fit(X_train, y_train)\n",
    "print_report(clf)"
   ]
  },
  {
   "cell_type": "code",
   "execution_count": 71,
   "metadata": {
    "ExecuteTime": {
     "end_time": "2018-10-20T02:37:20.228453Z",
     "start_time": "2018-10-20T02:37:20.218060Z"
    },
    "code_folding": [
     1
    ]
   },
   "outputs": [],
   "source": [
    "from sklearn.tree import export_graphviz\n",
    "def visualize_tree(tree, feature_names, fn=\"dt\"):\n",
    "    \"\"\"Create tree png using graphviz.\n",
    "\n",
    "    Args\n",
    "    ----\n",
    "    tree -- scikit-learn Decision Tree.\n",
    "    feature_names -- list of feature names.\n",
    "    fn -- [string], root of filename, default `dt`.\n",
    "    \"\"\"\n",
    "    dotfile = fn + \".dot\"\n",
    "    pngfile = fn + \".png\"\n",
    "\n",
    "    with open(dotfile, 'w') as f:\n",
    "        export_graphviz(tree, out_file=f,\n",
    "                        feature_names=feature_names)\n",
    "\n",
    "    command = [\"dot\", \"-Tpng\", dotfile, \"-o\", pngfile]\n",
    "    try:\n",
    "        subprocess.check_call(command)\n",
    "    except:\n",
    "        exit(\"Could not run dot, ie graphviz, \"\n",
    "             \"to produce visualization\")\n",
    "visualize_tree(clf, feature_names=[\"attribute1\",\"attribute2\",\"attribute3\",\"attribute4\",\"attribute5\",\"attribute6\",\"attribute7\",\"attribute8\",\"attribute9\"])"
   ]
  },
  {
   "cell_type": "code",
   "execution_count": 88,
   "metadata": {
    "ExecuteTime": {
     "end_time": "2018-10-20T02:58:34.705969Z",
     "start_time": "2018-10-20T02:57:03.696791Z"
    },
    "scrolled": true
   },
   "outputs": [
    {
     "name": "stderr",
     "output_type": "stream",
     "text": [
      "/home/marcos/.local/lib/python3.6/site-packages/sklearn/svm/base.py:196: FutureWarning: The default value of gamma will change from 'auto' to 'scale' in version 0.22 to account better for unscaled features. Set gamma explicitly to 'auto' or 'scale' to avoid this warning.\n",
      "  \"avoid this warning.\", FutureWarning)\n",
      "/home/marcos/.local/lib/python3.6/site-packages/sklearn/svm/base.py:244: ConvergenceWarning: Solver terminated early (max_iter=2000).  Consider pre-processing your data with StandardScaler or MinMaxScaler.\n",
      "  % self.max_iter, ConvergenceWarning)\n"
     ]
    },
    {
     "data": {
      "text/plain": [
       "GridSearchCV(cv=10, error_score='raise-deprecating',\n",
       "       estimator=SVC(C=1.0, cache_size=700, class_weight=None, coef0=0.0,\n",
       "  decision_function_shape='ovr', degree=3, gamma='auto_deprecated',\n",
       "  kernel='rbf', max_iter=2000, probability=False, random_state=0,\n",
       "  shrinking=True, tol=0.001, verbose=False),\n",
       "       fit_params=None, iid='warn', n_jobs=-1,\n",
       "       param_grid={'kernel': ['linear', 'poly', 'rbf', 'sigmoid'], 'class_weight': [None, 'balanced']},\n",
       "       pre_dispatch='2*n_jobs', refit=True, return_train_score='warn',\n",
       "       scoring=make_scorer(f1_score), verbose=0)"
      ]
     },
     "execution_count": 88,
     "metadata": {},
     "output_type": "execute_result"
    }
   ],
   "source": [
    "from sklearn.model_selection import GridSearchCV\n",
    "from sklearn.metrics import f1_score, make_scorer\n",
    "from sklearn.svm import SVC\n",
    "clf = SVC(gamma='auto', cache_size=700, max_iter=2000, random_state=0)\n",
    "\n",
    "parameters_dict = {\"kernel\": ['linear', 'poly', 'rbf', 'sigmoid' ],\\\n",
    "                   \"class_weight\" : [None, 'balanced']}\n",
    "\n",
    "grid_obj = GridSearchCV(estimator=clf,\n",
    "                        param_grid=parameters_dict, \n",
    "                        cv=10, \n",
    "                        n_jobs=-1, \n",
    "                        scoring=make_scorer(f1_score))\n",
    "grid_obj.fit(X_train,y_train)\n",
    "\n",
    "#Extract the best classifier\n",
    "# best_clf = grid_obj.best_estimator_"
   ]
  },
  {
   "cell_type": "code",
   "execution_count": 114,
   "metadata": {
    "ExecuteTime": {
     "end_time": "2018-10-20T03:19:39.827647Z",
     "start_time": "2018-10-20T03:19:04.396807Z"
    },
    "scrolled": true
   },
   "outputs": [
    {
     "name": "stderr",
     "output_type": "stream",
     "text": [
      "/home/marcos/.local/lib/python3.6/site-packages/sklearn/svm/base.py:244: ConvergenceWarning: Solver terminated early (max_iter=10000).  Consider pre-processing your data with StandardScaler or MinMaxScaler.\n",
      "  % self.max_iter, ConvergenceWarning)\n"
     ]
    },
    {
     "data": {
      "text/plain": [
       "SVC(C=1.0, cache_size=700, class_weight=None, coef0=0.0,\n",
       "  decision_function_shape='ovr', degree=3, gamma='auto', kernel='rbf',\n",
       "  max_iter=10000, probability=False, random_state=0, shrinking=True,\n",
       "  tol=0.001, verbose=False)"
      ]
     },
     "execution_count": 114,
     "metadata": {},
     "output_type": "execute_result"
    }
   ],
   "source": [
    "clf = SVC(gamma='auto', cache_size=700, max_iter=10000, random_state=0)\n",
    "clf.fit(X_train, y_train)"
   ]
  },
  {
   "cell_type": "code",
   "execution_count": 117,
   "metadata": {
    "ExecuteTime": {
     "end_time": "2018-10-20T03:22:44.205048Z",
     "start_time": "2018-10-20T03:22:16.034479Z"
    },
    "scrolled": false
   },
   "outputs": [
    {
     "name": "stdout",
     "output_type": "stream",
     "text": [
      "              precision    recall  f1-score   support\n",
      "\n",
      "           0       1.00      1.00      1.00     41042\n",
      "           1       0.98      0.98      0.98        42\n",
      "\n",
      "   micro avg       1.00      1.00      1.00     41084\n",
      "   macro avg       0.99      0.99      0.99     41084\n",
      "weighted avg       1.00      1.00      1.00     41084\n",
      "\n",
      "Acc: 99.99513192483693\n",
      "AUC: 0.9880830554530666\n",
      "[[41041     1]\n",
      " [    1    41]]\n"
     ]
    },
    {
     "name": "stderr",
     "output_type": "stream",
     "text": [
      "/home/marcos/.local/lib/python3.6/site-packages/sklearn/svm/base.py:244: ConvergenceWarning: Solver terminated early (max_iter=10000).  Consider pre-processing your data with StandardScaler or MinMaxScaler.\n",
      "  % self.max_iter, ConvergenceWarning)\n",
      "/home/marcos/.local/lib/python3.6/site-packages/sklearn/metrics/classification.py:1143: UndefinedMetricWarning: F-score is ill-defined and being set to 0.0 in labels with no predicted samples.\n",
      "  'precision', 'predicted', average, warn_for)\n",
      "/home/marcos/.local/lib/python3.6/site-packages/sklearn/svm/base.py:244: ConvergenceWarning: Solver terminated early (max_iter=10000).  Consider pre-processing your data with StandardScaler or MinMaxScaler.\n",
      "  % self.max_iter, ConvergenceWarning)\n"
     ]
    },
    {
     "name": "stdout",
     "output_type": "stream",
     "text": [
      "[0.4997443 0.4997443]\n",
      "0.500+-0.000\n"
     ]
    },
    {
     "name": "stderr",
     "output_type": "stream",
     "text": [
      "/home/marcos/.local/lib/python3.6/site-packages/sklearn/metrics/classification.py:1143: UndefinedMetricWarning: F-score is ill-defined and being set to 0.0 in labels with no predicted samples.\n",
      "  'precision', 'predicted', average, warn_for)\n"
     ]
    },
    {
     "data": {
      "image/png": "[encoded data removed]",
      "text/plain": [
       "<Figure size 432x288 with 1 Axes>"
      ]
     },
     "metadata": {
      "needs_background": "light"
     },
     "output_type": "display_data"
    }
   ],
   "source": [
    "print_report(clf, cv=2, X_test=X_full_test, y_test=y_full_test)"
   ]
  },
  {
   "cell_type": "code",
   "execution_count": 121,
   "metadata": {
    "ExecuteTime": {
     "end_time": "2018-10-20T18:07:29.309022Z",
     "start_time": "2018-10-20T18:06:34.168052Z"
    },
    "scrolled": false
   },
   "outputs": [
    {
     "name": "stdout",
     "output_type": "stream",
     "text": [
      "Best parameter (CV score=0.009):\n",
      "{'logistic__alpha': 100.0, 'pca__n_components': 4}\n"
     ]
    },
    {
     "data": {
      "image/png": "[encoded data removed]",
      "text/plain": [
       "<Figure size 432x432 with 2 Axes>"
      ]
     },
     "metadata": {
      "needs_background": "light"
     },
     "output_type": "display_data"
    }
   ],
   "source": [
    "import numpy as np\n",
    "import matplotlib.pyplot as plt\n",
    "import pandas as pd\n",
    "\n",
    "from sklearn import datasets\n",
    "from sklearn.decomposition import PCA\n",
    "from sklearn.linear_model import SGDClassifier\n",
    "from sklearn.pipeline import Pipeline\n",
    "from sklearn.model_selection import GridSearchCV\n",
    "\n",
    "\n",
    "# Define a pipeline to search for the best combination of PCA truncation\n",
    "# and classifier regularization.\n",
    "logistic = SGDClassifier(loss='log', penalty='l2', early_stopping=True,\n",
    "                         max_iter=10000, tol=1e-5, random_state=0)\n",
    "pca = PCA()\n",
    "pipe = Pipeline(steps=[('pca', pca), ('logistic', logistic)])\n",
    "\n",
    "# Parameters of pipelines can be set using ‘__’ separated parameter names:\n",
    "param_grid = {\n",
    "    'pca__n_components': [1,2,3,4,5,6,7,8,9],\n",
    "    'logistic__alpha': np.logspace(-4, 4, 5),\n",
    "}\n",
    "search = GridSearchCV(pipe, param_grid, iid=False, cv=5, scoring=make_scorer(f1_score),\n",
    "                      return_train_score=False, n_jobs=-1)\n",
    "search.fit(X_train, y_train)\n",
    "print(\"Best parameter (CV score=%0.3f):\" % search.best_score_)\n",
    "print(search.best_params_)\n",
    "\n",
    "# Plot the PCA spectrum\n",
    "pca.fit(X_train)\n",
    "\n",
    "fig, (ax0, ax1) = plt.subplots(nrows=2, sharex=True, figsize=(6, 6))\n",
    "ax0.plot(pca.explained_variance_ratio_, linewidth=2)\n",
    "ax0.set_ylabel('PCA explained variance')\n",
    "\n",
    "ax0.axvline(search.best_estimator_.named_steps['pca'].n_components,\n",
    "            linestyle=':', label='n_components chosen')\n",
    "ax0.legend(prop=dict(size=12))\n",
    "\n",
    "# For each number of components, find the best classifier results\n",
    "results = pd.DataFrame(search.cv_results_)\n",
    "components_col = 'param_pca__n_components'\n",
    "best_clfs = results.groupby(components_col).apply(\n",
    "    lambda g: g.nlargest(1, 'mean_test_score'))\n",
    "\n",
    "best_clfs.plot(x=components_col, y='mean_test_score', yerr='std_test_score',\n",
    "               legend=False, ax=ax1)\n",
    "ax1.set_ylabel('Classification accuracy (val)')\n",
    "ax1.set_xlabel('n_components')\n",
    "\n",
    "plt.tight_layout()\n",
    "plt.show()"
   ]
  },
  {
   "cell_type": "code",
   "execution_count": 124,
   "metadata": {
    "ExecuteTime": {
     "end_time": "2018-10-20T18:10:26.493790Z",
     "start_time": "2018-10-20T18:10:25.378189Z"
    }
   },
   "outputs": [
    {
     "data": {
      "text/plain": [
       "[<matplotlib.lines.Line2D at 0x7f56ddee40b8>,\n",
       " <matplotlib.lines.Line2D at 0x7f56ddee4438>]"
      ]
     },
     "execution_count": 124,
     "metadata": {},
     "output_type": "execute_result"
    },
    {
     "data": {
      "image/png": "[encoded data removed]",
      "text/plain": [
       "<Figure size 432x288 with 1 Axes>"
      ]
     },
     "metadata": {
      "needs_background": "light"
     },
     "output_type": "display_data"
    }
   ],
   "source": [
    "pca = PCA(n_components=2)\n",
    "plt.plot(pca.fit_transform(X_train))"
   ]
  },
  {
   "cell_type": "code",
   "execution_count": null,
   "metadata": {},
   "outputs": [],
   "source": []
  }
 ],
 "metadata": {
  "kernelspec": {
   "display_name": "Python 3",
   "language": "python",
   "name": "python3"
  },
  "language_info": {
   "codemirror_mode": {
    "name": "ipython",
    "version": 3
   },
   "file_extension": ".py",
   "mimetype": "text/x-python",
   "name": "python",
   "nbconvert_exporter": "python",
   "pygments_lexer": "ipython3",
   "version": "3.6.6"
  }
 },
 "nbformat": 4,
 "nbformat_minor": 2
}
